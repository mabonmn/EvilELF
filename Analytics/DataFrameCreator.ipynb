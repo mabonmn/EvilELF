{
 "cells": [
  {
   "cell_type": "code",
   "execution_count": 37,
   "id": "1663e867-02b4-444f-a623-88c517abde3f",
   "metadata": {},
   "outputs": [],
   "source": [
    "import pandas as pd\n",
    "import argparse\n",
    "import os\n",
    "import math\n",
    "import numpy as np\n",
    "from matplotlib import pyplot as plt\n",
    "from sklearn.model_selection import train_test_split"
   ]
  },
  {
   "cell_type": "markdown",
   "id": "bed79dad-2225-4ec0-8977-9418e271611c",
   "metadata": {},
   "source": [
    "#python3 dataframe_creator.py --benignware ../Labeled-Elfs-main/benignware/ --malware ../Labeled-Elfs-main/malware"
   ]
  },
  {
   "cell_type": "code",
   "execution_count": 38,
   "id": "f7f40317",
   "metadata": {},
   "outputs": [],
   "source": [
    "output_path = \"../MultiEvasion/data/\""
   ]
  },
  {
   "cell_type": "code",
   "execution_count": 39,
   "id": "3717560c-c5ec-4e43-bc77-f7518918afe4",
   "metadata": {},
   "outputs": [],
   "source": [
    "def read_directory(directory_path, is_malware):\n",
    "    files = os.listdir(directory_path)\n",
    "    list_df = []\n",
    "    for file in files:\n",
    "        file_path = os.path.join(directory_path, file)\n",
    "        if os.path.isfile(file_path):\n",
    "            row = create_file_row(file_path, is_malware) \n",
    "            list_df.append(row)\n",
    "    return pd.DataFrame(data = list_df, columns=['name','is_malware','size','architecture','address_size','endianness','ABI','compiler_used','optimization_level','obfuscation','stripped','package','program'])\n"
   ]
  },
  {
   "cell_type": "code",
   "execution_count": 40,
   "id": "8d85e4f5-39a6-4f98-842d-62f87c5a692a",
   "metadata": {},
   "outputs": [],
   "source": [
    "def create_file_row(file_path, is_malware):\n",
    "    row = []\n",
    "    base_name = os.path.basename(file_path)\n",
    "    size = os.path.getsize(file_path)\n",
    "    split = base_name.split(\"__\")\n",
    "    row.append(base_name)\n",
    "    row.append(is_malware)\n",
    "    row.append(size)\n",
    "    row.extend(split)\n",
    "    return row"
   ]
  },
  {
   "cell_type": "code",
   "execution_count": 41,
   "id": "c2de1557",
   "metadata": {},
   "outputs": [],
   "source": [
    "def reduce_to_80_20_benignware_malware(dataframe):\n",
    "    malware_total = dataframe['is_malware'].sum()\n",
    "    count = 0\n",
    "    to_drop = []\n",
    "    for i,row in dataframe.iterrows():\n",
    "        if row['is_malware'] == 0:\n",
    "            if count < (malware_total*4):\n",
    "                count = count + 1\n",
    "            else:\n",
    "                to_drop.append(i)\n",
    "\n",
    "    return dataframe.drop(index=to_drop, axis = 0).sample(frac=1)"
   ]
  },
  {
   "cell_type": "code",
   "execution_count": 42,
   "id": "de539d90-b647-4ce7-b572-f4197ee20413",
   "metadata": {},
   "outputs": [],
   "source": [
    "def reduce_non_malware_to_same_amount(dataframe):\n",
    "    malware_total = dataframe['is_malware'].sum()\n",
    "    count = 0\n",
    "    to_drop = []\n",
    "    for i,row in dataframe.iterrows():\n",
    "        if row['is_malware'] == 0:\n",
    "            if count < malware_total:\n",
    "                count = count + 1\n",
    "            else:\n",
    "                to_drop.append(i)\n",
    "\n",
    "    return dataframe.drop(index=to_drop, axis = 0).sample(frac=1)"
   ]
  },
  {
   "cell_type": "code",
   "execution_count": 43,
   "id": "c413395e-f9c5-4517-866e-a58ce13adf83",
   "metadata": {},
   "outputs": [],
   "source": [
    "parser = argparse.ArgumentParser(\"dataframe_creator\")\n",
    "\n",
    "parser.add_argument(\"--benignware\", default = \"../MultiEvasion/data/benignware/\", help = \"The path to a folder containing only benign ELF executables\")\n",
    "parser.add_argument(\"--malware\", default = \"../MultiEvasion/data/malware/\", help = \"The path to a folder containing only malware ELF executables\")\n",
    "parser.add_argument(\"--num_to_use\", help = \"Number of entries from files to use, leave empty for whole dataset\")\n",
    "\n",
    "args = parser.parse_known_args()[0]"
   ]
  },
  {
   "cell_type": "code",
   "execution_count": 44,
   "id": "247fd087",
   "metadata": {},
   "outputs": [],
   "source": [
    "df1 = read_directory(args.benignware,0)\n",
    "df2 = read_directory(args.malware,1)"
   ]
  },
  {
   "cell_type": "code",
   "execution_count": 45,
   "id": "6ec56949",
   "metadata": {},
   "outputs": [
    {
     "name": "stdout",
     "output_type": "stream",
     "text": [
      "                                                    name  is_malware   size  \\\n",
      "0      x86__64__lsb__unix-system-v__gcc-5.5.0__O1__no...           0  38256   \n",
      "1      x86__64__lsb__unix-system-v__gcc-10.1.0__Os__n...           0  28960   \n",
      "2      x86__64__lsb__unix-system-v__llvm-obfuscator-3...           0  20504   \n",
      "3      x86__64__lsb__unix-system-v__clang-3.9.0__O0__...           0  15032   \n",
      "4      x86__64__lsb__unix-system-v__gcc-8.4.0__O0__no...           0  41792   \n",
      "...                                                  ...         ...    ...   \n",
      "39964  x86__64__lsb__unix-system-v__llvm-obfuscator-3...           0  34000   \n",
      "39965  x86__64__lsb__unix-system-v__gcc-10.1.0__Os__n...           0  42896   \n",
      "39966  x86__64__lsb__unix-system-v__llvm-obfuscator-3...           0  17328   \n",
      "39967  x86__64__lsb__unix-system-v__clang-6.0.1__O0__...           0  66920   \n",
      "39968  x86__64__lsb__unix-system-v__gcc-5.1.0__O1__no...           0  15200   \n",
      "\n",
      "      architecture address_size endianness            ABI  \\\n",
      "0              x86           64        lsb  unix-system-v   \n",
      "1              x86           64        lsb  unix-system-v   \n",
      "2              x86           64        lsb  unix-system-v   \n",
      "3              x86           64        lsb  unix-system-v   \n",
      "4              x86           64        lsb  unix-system-v   \n",
      "...            ...          ...        ...            ...   \n",
      "39964          x86           64        lsb  unix-system-v   \n",
      "39965          x86           64        lsb  unix-system-v   \n",
      "39966          x86           64        lsb  unix-system-v   \n",
      "39967          x86           64        lsb  unix-system-v   \n",
      "39968          x86           64        lsb  unix-system-v   \n",
      "\n",
      "               compiler_used optimization_level        obfuscation  \\\n",
      "0                  gcc-5.5.0                 O1             no-obf   \n",
      "1                 gcc-10.1.0                 Os             no-obf   \n",
      "2      llvm-obfuscator-3.3.0                 O0  mllvmsub_mllvmbcf   \n",
      "3                clang-3.9.0                 O0             no-obf   \n",
      "4                  gcc-8.4.0                 O0             no-obf   \n",
      "...                      ...                ...                ...   \n",
      "39964  llvm-obfuscator-3.4.0                 O3  mllvmsub_mllvmbcf   \n",
      "39965             gcc-10.1.0                 Os             no-obf   \n",
      "39966  llvm-obfuscator-3.4.0                 O2  mllvmsub_mllvmbcf   \n",
      "39967            clang-6.0.1                 O0             no-obf   \n",
      "39968              gcc-5.1.0                 O1             no-obf   \n",
      "\n",
      "         stripped          package       program  \n",
      "0      unstripped   coreutils-8.30          nice  \n",
      "1      unstripped  util-linux-2.33         namei  \n",
      "2      unstripped  util-linux-2.33          mesg  \n",
      "3      unstripped     acpid-2.0.31  libnetlink.o  \n",
      "4      unstripped   coreutils-8.30       pathchk  \n",
      "...           ...              ...           ...  \n",
      "39964  unstripped  util-linux-2.33       fincore  \n",
      "39965  unstripped  util-linux-2.33          last  \n",
      "39966  unstripped  util-linux-2.33       setarch  \n",
      "39967  unstripped   coreutils-8.30        md5sum  \n",
      "39968  unstripped  util-linux-2.33    mountpoint  \n",
      "\n",
      "[39969 rows x 13 columns]\n"
     ]
    }
   ],
   "source": [
    "combined_df = pd.concat([df1, df2], ignore_index=True)\n",
    "combined_df = combined_df[combined_df['name'].str.contains('x86__64__lsb__unix-system-v')]\n",
    "\n",
    "combined_df = combined_df.sample(frac = 1,random_state=1382,ignore_index = True)\n",
    "print(combined_df)"
   ]
  },
  {
   "cell_type": "code",
   "execution_count": 46,
   "id": "8bc0eaef",
   "metadata": {},
   "outputs": [
    {
     "data": {
      "text/html": [
       "<div>\n",
       "<style scoped>\n",
       "    .dataframe tbody tr th:only-of-type {\n",
       "        vertical-align: middle;\n",
       "    }\n",
       "\n",
       "    .dataframe tbody tr th {\n",
       "        vertical-align: top;\n",
       "    }\n",
       "\n",
       "    .dataframe thead th {\n",
       "        text-align: right;\n",
       "    }\n",
       "</style>\n",
       "<table border=\"1\" class=\"dataframe\">\n",
       "  <thead>\n",
       "    <tr style=\"text-align: right;\">\n",
       "      <th></th>\n",
       "      <th>name</th>\n",
       "      <th>is_malware</th>\n",
       "      <th>size</th>\n",
       "      <th>architecture</th>\n",
       "      <th>address_size</th>\n",
       "      <th>endianness</th>\n",
       "      <th>ABI</th>\n",
       "      <th>compiler_used</th>\n",
       "      <th>optimization_level</th>\n",
       "      <th>obfuscation</th>\n",
       "      <th>stripped</th>\n",
       "      <th>package</th>\n",
       "      <th>program</th>\n",
       "    </tr>\n",
       "  </thead>\n",
       "  <tbody>\n",
       "    <tr>\n",
       "      <th>0</th>\n",
       "      <td>x86__64__lsb__unix-system-v__gcc-5.5.0__O1__no...</td>\n",
       "      <td>0</td>\n",
       "      <td>38256</td>\n",
       "      <td>x86</td>\n",
       "      <td>64</td>\n",
       "      <td>lsb</td>\n",
       "      <td>unix-system-v</td>\n",
       "      <td>gcc-5.5.0</td>\n",
       "      <td>O1</td>\n",
       "      <td>no-obf</td>\n",
       "      <td>unstripped</td>\n",
       "      <td>coreutils-8.30</td>\n",
       "      <td>nice</td>\n",
       "    </tr>\n",
       "    <tr>\n",
       "      <th>1</th>\n",
       "      <td>x86__64__lsb__unix-system-v__gcc-10.1.0__Os__n...</td>\n",
       "      <td>0</td>\n",
       "      <td>28960</td>\n",
       "      <td>x86</td>\n",
       "      <td>64</td>\n",
       "      <td>lsb</td>\n",
       "      <td>unix-system-v</td>\n",
       "      <td>gcc-10.1.0</td>\n",
       "      <td>Os</td>\n",
       "      <td>no-obf</td>\n",
       "      <td>unstripped</td>\n",
       "      <td>util-linux-2.33</td>\n",
       "      <td>namei</td>\n",
       "    </tr>\n",
       "    <tr>\n",
       "      <th>2</th>\n",
       "      <td>x86__64__lsb__unix-system-v__llvm-obfuscator-3...</td>\n",
       "      <td>0</td>\n",
       "      <td>20504</td>\n",
       "      <td>x86</td>\n",
       "      <td>64</td>\n",
       "      <td>lsb</td>\n",
       "      <td>unix-system-v</td>\n",
       "      <td>llvm-obfuscator-3.3.0</td>\n",
       "      <td>O0</td>\n",
       "      <td>mllvmsub_mllvmbcf</td>\n",
       "      <td>unstripped</td>\n",
       "      <td>util-linux-2.33</td>\n",
       "      <td>mesg</td>\n",
       "    </tr>\n",
       "    <tr>\n",
       "      <th>4</th>\n",
       "      <td>x86__64__lsb__unix-system-v__gcc-8.4.0__O0__no...</td>\n",
       "      <td>0</td>\n",
       "      <td>41792</td>\n",
       "      <td>x86</td>\n",
       "      <td>64</td>\n",
       "      <td>lsb</td>\n",
       "      <td>unix-system-v</td>\n",
       "      <td>gcc-8.4.0</td>\n",
       "      <td>O0</td>\n",
       "      <td>no-obf</td>\n",
       "      <td>unstripped</td>\n",
       "      <td>coreutils-8.30</td>\n",
       "      <td>pathchk</td>\n",
       "    </tr>\n",
       "    <tr>\n",
       "      <th>5</th>\n",
       "      <td>x86__64__lsb__unix-system-v__llvm-obfuscator-4...</td>\n",
       "      <td>0</td>\n",
       "      <td>55088</td>\n",
       "      <td>x86</td>\n",
       "      <td>64</td>\n",
       "      <td>lsb</td>\n",
       "      <td>unix-system-v</td>\n",
       "      <td>llvm-obfuscator-4.0.1</td>\n",
       "      <td>O3</td>\n",
       "      <td>mllvmbcf</td>\n",
       "      <td>unstripped</td>\n",
       "      <td>util-linux-2.33</td>\n",
       "      <td>uuidparse</td>\n",
       "    </tr>\n",
       "    <tr>\n",
       "      <th>...</th>\n",
       "      <td>...</td>\n",
       "      <td>...</td>\n",
       "      <td>...</td>\n",
       "      <td>...</td>\n",
       "      <td>...</td>\n",
       "      <td>...</td>\n",
       "      <td>...</td>\n",
       "      <td>...</td>\n",
       "      <td>...</td>\n",
       "      <td>...</td>\n",
       "      <td>...</td>\n",
       "      <td>...</td>\n",
       "      <td>...</td>\n",
       "    </tr>\n",
       "    <tr>\n",
       "      <th>39964</th>\n",
       "      <td>x86__64__lsb__unix-system-v__llvm-obfuscator-3...</td>\n",
       "      <td>0</td>\n",
       "      <td>34000</td>\n",
       "      <td>x86</td>\n",
       "      <td>64</td>\n",
       "      <td>lsb</td>\n",
       "      <td>unix-system-v</td>\n",
       "      <td>llvm-obfuscator-3.4.0</td>\n",
       "      <td>O3</td>\n",
       "      <td>mllvmsub_mllvmbcf</td>\n",
       "      <td>unstripped</td>\n",
       "      <td>util-linux-2.33</td>\n",
       "      <td>fincore</td>\n",
       "    </tr>\n",
       "    <tr>\n",
       "      <th>39965</th>\n",
       "      <td>x86__64__lsb__unix-system-v__gcc-10.1.0__Os__n...</td>\n",
       "      <td>0</td>\n",
       "      <td>42896</td>\n",
       "      <td>x86</td>\n",
       "      <td>64</td>\n",
       "      <td>lsb</td>\n",
       "      <td>unix-system-v</td>\n",
       "      <td>gcc-10.1.0</td>\n",
       "      <td>Os</td>\n",
       "      <td>no-obf</td>\n",
       "      <td>unstripped</td>\n",
       "      <td>util-linux-2.33</td>\n",
       "      <td>last</td>\n",
       "    </tr>\n",
       "    <tr>\n",
       "      <th>39966</th>\n",
       "      <td>x86__64__lsb__unix-system-v__llvm-obfuscator-3...</td>\n",
       "      <td>0</td>\n",
       "      <td>17328</td>\n",
       "      <td>x86</td>\n",
       "      <td>64</td>\n",
       "      <td>lsb</td>\n",
       "      <td>unix-system-v</td>\n",
       "      <td>llvm-obfuscator-3.4.0</td>\n",
       "      <td>O2</td>\n",
       "      <td>mllvmsub_mllvmbcf</td>\n",
       "      <td>unstripped</td>\n",
       "      <td>util-linux-2.33</td>\n",
       "      <td>setarch</td>\n",
       "    </tr>\n",
       "    <tr>\n",
       "      <th>39967</th>\n",
       "      <td>x86__64__lsb__unix-system-v__clang-6.0.1__O0__...</td>\n",
       "      <td>0</td>\n",
       "      <td>66920</td>\n",
       "      <td>x86</td>\n",
       "      <td>64</td>\n",
       "      <td>lsb</td>\n",
       "      <td>unix-system-v</td>\n",
       "      <td>clang-6.0.1</td>\n",
       "      <td>O0</td>\n",
       "      <td>no-obf</td>\n",
       "      <td>unstripped</td>\n",
       "      <td>coreutils-8.30</td>\n",
       "      <td>md5sum</td>\n",
       "    </tr>\n",
       "    <tr>\n",
       "      <th>39968</th>\n",
       "      <td>x86__64__lsb__unix-system-v__gcc-5.1.0__O1__no...</td>\n",
       "      <td>0</td>\n",
       "      <td>15200</td>\n",
       "      <td>x86</td>\n",
       "      <td>64</td>\n",
       "      <td>lsb</td>\n",
       "      <td>unix-system-v</td>\n",
       "      <td>gcc-5.1.0</td>\n",
       "      <td>O1</td>\n",
       "      <td>no-obf</td>\n",
       "      <td>unstripped</td>\n",
       "      <td>util-linux-2.33</td>\n",
       "      <td>mountpoint</td>\n",
       "    </tr>\n",
       "  </tbody>\n",
       "</table>\n",
       "<p>39521 rows × 13 columns</p>\n",
       "</div>"
      ],
      "text/plain": [
       "                                                    name  is_malware   size  \\\n",
       "0      x86__64__lsb__unix-system-v__gcc-5.5.0__O1__no...           0  38256   \n",
       "1      x86__64__lsb__unix-system-v__gcc-10.1.0__Os__n...           0  28960   \n",
       "2      x86__64__lsb__unix-system-v__llvm-obfuscator-3...           0  20504   \n",
       "4      x86__64__lsb__unix-system-v__gcc-8.4.0__O0__no...           0  41792   \n",
       "5      x86__64__lsb__unix-system-v__llvm-obfuscator-4...           0  55088   \n",
       "...                                                  ...         ...    ...   \n",
       "39964  x86__64__lsb__unix-system-v__llvm-obfuscator-3...           0  34000   \n",
       "39965  x86__64__lsb__unix-system-v__gcc-10.1.0__Os__n...           0  42896   \n",
       "39966  x86__64__lsb__unix-system-v__llvm-obfuscator-3...           0  17328   \n",
       "39967  x86__64__lsb__unix-system-v__clang-6.0.1__O0__...           0  66920   \n",
       "39968  x86__64__lsb__unix-system-v__gcc-5.1.0__O1__no...           0  15200   \n",
       "\n",
       "      architecture address_size endianness            ABI  \\\n",
       "0              x86           64        lsb  unix-system-v   \n",
       "1              x86           64        lsb  unix-system-v   \n",
       "2              x86           64        lsb  unix-system-v   \n",
       "4              x86           64        lsb  unix-system-v   \n",
       "5              x86           64        lsb  unix-system-v   \n",
       "...            ...          ...        ...            ...   \n",
       "39964          x86           64        lsb  unix-system-v   \n",
       "39965          x86           64        lsb  unix-system-v   \n",
       "39966          x86           64        lsb  unix-system-v   \n",
       "39967          x86           64        lsb  unix-system-v   \n",
       "39968          x86           64        lsb  unix-system-v   \n",
       "\n",
       "               compiler_used optimization_level        obfuscation  \\\n",
       "0                  gcc-5.5.0                 O1             no-obf   \n",
       "1                 gcc-10.1.0                 Os             no-obf   \n",
       "2      llvm-obfuscator-3.3.0                 O0  mllvmsub_mllvmbcf   \n",
       "4                  gcc-8.4.0                 O0             no-obf   \n",
       "5      llvm-obfuscator-4.0.1                 O3           mllvmbcf   \n",
       "...                      ...                ...                ...   \n",
       "39964  llvm-obfuscator-3.4.0                 O3  mllvmsub_mllvmbcf   \n",
       "39965             gcc-10.1.0                 Os             no-obf   \n",
       "39966  llvm-obfuscator-3.4.0                 O2  mllvmsub_mllvmbcf   \n",
       "39967            clang-6.0.1                 O0             no-obf   \n",
       "39968              gcc-5.1.0                 O1             no-obf   \n",
       "\n",
       "         stripped          package     program  \n",
       "0      unstripped   coreutils-8.30        nice  \n",
       "1      unstripped  util-linux-2.33       namei  \n",
       "2      unstripped  util-linux-2.33        mesg  \n",
       "4      unstripped   coreutils-8.30     pathchk  \n",
       "5      unstripped  util-linux-2.33   uuidparse  \n",
       "...           ...              ...         ...  \n",
       "39964  unstripped  util-linux-2.33     fincore  \n",
       "39965  unstripped  util-linux-2.33        last  \n",
       "39966  unstripped  util-linux-2.33     setarch  \n",
       "39967  unstripped   coreutils-8.30      md5sum  \n",
       "39968  unstripped  util-linux-2.33  mountpoint  \n",
       "\n",
       "[39521 rows x 13 columns]"
      ]
     },
     "execution_count": 46,
     "metadata": {},
     "output_type": "execute_result"
    }
   ],
   "source": [
    "combined_df.to_csv(output_path + \"Combined_ELF_Dataset.csv\",header=False,index=False)\n",
    "\n",
    "combined_df = combined_df[~combined_df['program'].astype('str').str.endswith(\".o\")]\n",
    "\n",
    "if args.num_to_use is None:\n",
    "    num_rows = combined_df.shape[0]\n",
    "    df_to_split = combined_df\n",
    "else:\n",
    "    num_rows = int(args.num_to_use )\n",
    "    df_to_split = combined_df.iloc[:num_rows]\n",
    "\n",
    "df_to_split"
   ]
  },
  {
   "cell_type": "code",
   "execution_count": 47,
   "id": "40d1fd23",
   "metadata": {},
   "outputs": [
    {
     "name": "stdout",
     "output_type": "stream",
     "text": [
      "Benignware amount:  38810\n"
     ]
    }
   ],
   "source": [
    "print(\"Benignware amount: \", df_to_split.shape[0] - df_to_split['is_malware'].sum())"
   ]
  },
  {
   "cell_type": "code",
   "execution_count": 48,
   "id": "3785f82f",
   "metadata": {},
   "outputs": [
    {
     "name": "stdout",
     "output_type": "stream",
     "text": [
      "Malware amount:  711\n"
     ]
    }
   ],
   "source": [
    "print(\"Malware amount: \", df_to_split['is_malware'].sum())"
   ]
  },
  {
   "cell_type": "markdown",
   "id": "7d73a0ff",
   "metadata": {},
   "source": [
    "#### originally done this way unstratified"
   ]
  },
  {
   "cell_type": "markdown",
   "id": "969176c9",
   "metadata": {},
   "source": [
    "train, test, valid = np.split(df_to_split, [int(args.train_amount*num_rows),\n",
    "                                            int((args.train_amount+args.test_amount)*num_rows)])"
   ]
  },
  {
   "cell_type": "markdown",
   "id": "f3ac7c3b",
   "metadata": {},
   "source": [
    "# Stratify and Split"
   ]
  },
  {
   "cell_type": "code",
   "execution_count": 49,
   "id": "0a4e0cda",
   "metadata": {},
   "outputs": [],
   "source": [
    "train, valid_test = train_test_split(df_to_split, test_size=0.2, random_state=0, \n",
    "                               stratify=df_to_split[['is_malware']])\n",
    "valid, test = train_test_split(valid_test, test_size=0.5, random_state=0, \n",
    "                               stratify=valid_test[['is_malware']])"
   ]
  },
  {
   "cell_type": "markdown",
   "id": "d291bb20",
   "metadata": {},
   "source": [
    "# Save"
   ]
  },
  {
   "cell_type": "code",
   "execution_count": 28,
   "id": "4bb68341",
   "metadata": {},
   "outputs": [
    {
     "name": "stdout",
     "output_type": "stream",
     "text": [
      "Train Benignware amount: 31047\t\t Malware amount: 569\n"
     ]
    }
   ],
   "source": [
    "train.to_csv(output_path + \"Train_ELF_Dataset.csv\",index=False)\n",
    "malware_amount = train['is_malware'].sum()\n",
    "print(\"Train Benignware amount: \" + str( train.shape[0] - malware_amount) + \"\\t\\t Malware amount: \" + str(malware_amount))\n"
   ]
  },
  {
   "cell_type": "code",
   "execution_count": 29,
   "id": "97c01ea5",
   "metadata": {},
   "outputs": [
    {
     "name": "stdout",
     "output_type": "stream",
     "text": [
      "Test Benignware amount: 3882\t\t Malware amount: 71\n"
     ]
    }
   ],
   "source": [
    "test.to_csv(output_path + \"Test_ELF_Dataset.csv\",index=False)\n",
    "malware_amount = test['is_malware'].sum()\n",
    "print(\"Test Benignware amount: \" + str( test.shape[0] - malware_amount) + \"\\t\\t Malware amount: \" + str(malware_amount))\n"
   ]
  },
  {
   "cell_type": "code",
   "execution_count": 30,
   "id": "82a5bcf4-1149-492b-a320-ff2cd7e9fa5e",
   "metadata": {},
   "outputs": [
    {
     "name": "stdout",
     "output_type": "stream",
     "text": [
      "Validation Benignware amount: 3881\t\t Malware amount: 71\n"
     ]
    }
   ],
   "source": [
    "valid.to_csv(output_path + \"Valid_ELF_Dataset.csv\",index=False)\n",
    "malware_amount = valid['is_malware'].sum()\n",
    "print(\"Validation Benignware amount: \" + str( valid.shape[0] - malware_amount) + \"\\t\\t Malware amount: \" + str(malware_amount))"
   ]
  },
  {
   "cell_type": "code",
   "execution_count": 31,
   "id": "14573fae",
   "metadata": {},
   "outputs": [],
   "source": [
    "train_equal = reduce_non_malware_to_same_amount(train)\n",
    "test_equal = reduce_non_malware_to_same_amount(test)\n",
    "valid_equal = reduce_non_malware_to_same_amount(valid)"
   ]
  },
  {
   "cell_type": "code",
   "execution_count": 32,
   "id": "5653569d",
   "metadata": {},
   "outputs": [],
   "source": [
    "train_equal.iloc[:,0:2].to_csv(output_path + \"TrainEven_ELF_Dataset.csv\",header=False,index=False)\n",
    "test_equal.iloc[:,0:2].to_csv(output_path + \"TestEven_ELF_Dataset.csv\",header=False,index=False)\n",
    "valid_equal.iloc[:,0:2].to_csv(output_path + \"ValidEven_ELF_Dataset.csv\",header=False,index=False)"
   ]
  },
  {
   "cell_type": "code",
   "execution_count": 50,
   "id": "317f261a",
   "metadata": {},
   "outputs": [],
   "source": [
    "train_unequal = reduce_to_80_20_benignware_malware(train)\n",
    "test_unequal = reduce_to_80_20_benignware_malware(test)\n",
    "valid_unequal = reduce_to_80_20_benignware_malware(valid)"
   ]
  },
  {
   "cell_type": "code",
   "execution_count": 51,
   "id": "508b8ea5",
   "metadata": {},
   "outputs": [],
   "source": [
    "train_unequal.iloc[:,0:2].to_csv(output_path + \"TrainUneven_ELF_Dataset.csv\",header=False,index=False)\n",
    "test_unequal.iloc[:,0:2].to_csv(output_path + \"TestUneven_ELF_Dataset.csv\",header=False,index=False)\n",
    "valid_unequal.iloc[:,0:2].to_csv(output_path + \"ValidUneven_ELF_Dataset.csv\",header=False,index=False)"
   ]
  },
  {
   "cell_type": "markdown",
   "id": "c178965d",
   "metadata": {},
   "source": [
    "# Below here needs to be updated to remove 3 malware from the new dataset"
   ]
  },
  {
   "cell_type": "code",
   "execution_count": null,
   "id": "d5dc8a4d",
   "metadata": {},
   "outputs": [],
   "source": []
  },
  {
   "cell_type": "code",
   "execution_count": null,
   "id": "4f9b4285",
   "metadata": {},
   "outputs": [],
   "source": []
  },
  {
   "cell_type": "code",
   "execution_count": null,
   "id": "53721235",
   "metadata": {},
   "outputs": [],
   "source": [
    "train_equal[train_equal['name'].str.contains(\"x86__64__lsb__unix-system-v__gcc-9.3.0__O1__no-obf__unstripped__Mirai-vanilla__bot\")]\n"
   ]
  },
  {
   "cell_type": "code",
   "execution_count": null,
   "id": "ee722d10",
   "metadata": {},
   "outputs": [],
   "source": [
    "train_equal_minus_one = train_equal[~train_equal['name'].str.contains(\"x86__64__lsb__unix-system-v__gcc-9.3.0__O1__no-obf__unstripped__Mirai-vanilla__bot\")]\n",
    "train_equal_minus_one"
   ]
  },
  {
   "cell_type": "code",
   "execution_count": null,
   "id": "08d0c861",
   "metadata": {},
   "outputs": [],
   "source": [
    "train_equal_minus_mirai_bot = train_equal[~train_equal['name'].str.contains(\"Mirai-vanilla__bot\")]\n",
    "train_equal_minus_mirai_bot"
   ]
  },
  {
   "cell_type": "markdown",
   "id": "84c0cf98",
   "metadata": {},
   "source": [
    "train_equal_minus_one.iloc[:,0:2].to_csv(output_path + \"TrainEven_Minus-One_ELF_Dataset.csv\",header=False,index=False)\n",
    "train_equal_minus_mirai_bot.iloc[:,0:2].to_csv(output_path + \"TrainEven_Minus-Mirai-Bot_ELF_Dataset.csv\",header=False,index=False)"
   ]
  },
  {
   "cell_type": "code",
   "execution_count": null,
   "id": "4127fcae",
   "metadata": {},
   "outputs": [],
   "source": [
    "size_in_kb = combined_df['size'].div(1024)"
   ]
  },
  {
   "cell_type": "code",
   "execution_count": null,
   "id": "1703d3da",
   "metadata": {},
   "outputs": [],
   "source": [
    "percentiles = size_in_kb.describe(percentiles=[0.5,0.7,0.9,0.95,0.98,0.99])\n",
    "percentiles"
   ]
  },
  {
   "cell_type": "code",
   "execution_count": null,
   "id": "8c2c958c-0bbf-48d8-857f-f82df6392928",
   "metadata": {},
   "outputs": [],
   "source": [
    "size_in_kb.plot(kind='hist',bins=100)\n",
    "plt.ylabel(\"Occurrences\")\n",
    "plt.xlabel(\"Size of ELF Executable in Dataset (KiloBytes)\")\n",
    "plt.title(\"Histogram of size of ELF Executables in Labeled Elfs Dataset\")\n",
    "plt.axvline(percentiles['90%'],color = 'red',linestyle='dashed',linewidth=0.8)\n",
    "plt.axvline(percentiles['95%'],color = 'blue',linestyle='dashed',linewidth=0.8)\n",
    "plt.axvline(percentiles['98%'],color = 'green',linestyle='dashed',linewidth=0.8)\n",
    "plt.axvline(percentiles['99%'],color = 'orange',linestyle='dashed',linewidth=0.8)\n",
    "plt.legend(['File Counts',\n",
    "            '90th percentile %.0f KB'%(percentiles['90%']),\n",
    "            '95th percentile %.0f KB'%(percentiles['95%']),\n",
    "            '98th percentile %.0f KB'%(percentiles['98%']),\n",
    "            '99th percentile %.0f KB'%(percentiles['99%']),\n",
    "           ])\n",
    "plt.show()"
   ]
  },
  {
   "cell_type": "code",
   "execution_count": null,
   "id": "ce108dbd",
   "metadata": {},
   "outputs": [],
   "source": [
    "size_in_kb.max()"
   ]
  },
  {
   "cell_type": "code",
   "execution_count": null,
   "id": "c2df6079",
   "metadata": {},
   "outputs": [],
   "source": [
    "combined_df_kb = combined_df\n",
    "combined_df_kb['size'] = combined_df_kb['size'].div(1024)\n",
    "malware_groups = combined_df_kb.groupby('is_malware')\n",
    "malware_groups['size'].plot(kind='hist',bins=100)"
   ]
  },
  {
   "cell_type": "code",
   "execution_count": null,
   "id": "a1756d73",
   "metadata": {},
   "outputs": [],
   "source": [
    "percentiles = malware_groups.get_group(1)['size'].describe(percentiles=[0.5,0.7,0.9,0.95,0.98,0.99])\n",
    "percentiles"
   ]
  },
  {
   "cell_type": "code",
   "execution_count": null,
   "id": "f6ca4b5f",
   "metadata": {},
   "outputs": [],
   "source": [
    "malware_groups.get_group(1)['size'].plot(kind='hist',bins=100)\n",
    "plt.ylabel(\"Occurrences\")\n",
    "plt.xlabel(\"Size of ELF Malware Executable in Dataset (KiloBytes)\")\n",
    "plt.title(\"Histogram of size of ELF Malware Executables in Labeled Elfs Dataset\")\n",
    "plt.axvline(percentiles['90%'],color = 'red',linestyle='dashed',linewidth=0.8)\n",
    "plt.axvline(percentiles['95%'],color = 'blue',linestyle='dashed',linewidth=0.8)\n",
    "plt.axvline(percentiles['98%'],color = 'green',linestyle='dashed',linewidth=0.8)\n",
    "plt.axvline(percentiles['99%'],color = 'orange',linestyle='dashed',linewidth=0.8)\n",
    "plt.legend(['File Counts',\n",
    "            '90th percentile %.0f KB'%(percentiles['90%']),\n",
    "            '95th percentile %.0f KB'%(percentiles['95%']),\n",
    "            '98th percentile %.0f KB'%(percentiles['98%']),\n",
    "            '99th percentile %.0f KB'%(percentiles['99%']),\n",
    "           ])\n",
    "plt.show()"
   ]
  },
  {
   "cell_type": "code",
   "execution_count": null,
   "id": "4d825651",
   "metadata": {},
   "outputs": [],
   "source": [
    "train_equal_minus_mirai_bot.shape"
   ]
  },
  {
   "cell_type": "code",
   "execution_count": null,
   "id": "4e01d217",
   "metadata": {},
   "outputs": [],
   "source": [
    "train_equal_minus_all_three = train_equal_minus_mirai_bot[~train_equal_minus_mirai_bot['name'].str.contains(\"lightaidra-1.0__lightaidra\")]"
   ]
  },
  {
   "cell_type": "code",
   "execution_count": null,
   "id": "cb4428bf",
   "metadata": {},
   "outputs": [],
   "source": [
    "train_equal_minus_all_three = train_equal_minus_all_three[~train_equal_minus_all_three['name'].str.contains(\"BASHLITE-lizkebab__client\")]"
   ]
  },
  {
   "cell_type": "code",
   "execution_count": null,
   "id": "b49b5d33",
   "metadata": {},
   "outputs": [],
   "source": [
    "train_equal_minus_three = train_equal_minus_one[~train_equal_minus_one['name'].str.contains(\"x86__64__lsb__unix-system-v__gcc-4.9.0__O2__no-obf__unstripped__lightaidra-1.0__lightaidra\")]\n",
    "train_equal_minus_three = train_equal_minus_three[~train_equal_minus_three['name'].str.contains(\"x86__64__lsb__unix-system-v__clang-5.0.1__Os__no-obf__unstripped__BASHLITE-lizkebab__client\")]\n",
    "train_equal_minus_three"
   ]
  },
  {
   "cell_type": "code",
   "execution_count": null,
   "id": "5a2f3467",
   "metadata": {},
   "outputs": [],
   "source": [
    "train_equal_minus_three.iloc[:,0:2].to_csv(output_path + \"TrainEven_Minus-Three_ELF_Dataset.csv\",header=False,index=False)\n",
    "train_equal_minus_all_three.iloc[:,0:2].to_csv(output_path + \"TrainEven_Minus-All-Three_ELF_Dataset.csv\",header=False,index=False)"
   ]
  },
  {
   "cell_type": "code",
   "execution_count": null,
   "id": "44205fa7",
   "metadata": {},
   "outputs": [],
   "source": []
  }
 ],
 "metadata": {
  "kernelspec": {
   "display_name": "Python 3 (ipykernel)",
   "language": "python",
   "name": "python3"
  },
  "language_info": {
   "codemirror_mode": {
    "name": "ipython",
    "version": 3
   },
   "file_extension": ".py",
   "mimetype": "text/x-python",
   "name": "python",
   "nbconvert_exporter": "python",
   "pygments_lexer": "ipython3",
   "version": "3.10.6"
  }
 },
 "nbformat": 4,
 "nbformat_minor": 5
}
