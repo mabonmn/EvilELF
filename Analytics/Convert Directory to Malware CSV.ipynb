{
 "cells": [
  {
   "cell_type": "code",
   "execution_count": 1,
   "id": "cc405224",
   "metadata": {},
   "outputs": [],
   "source": [
    "import pandas as pd\n",
    "import os\n",
    "import csv"
   ]
  },
  {
   "cell_type": "code",
   "execution_count": null,
   "id": "0e8f6bdb",
   "metadata": {},
   "outputs": [],
   "source": [
    "directory = \"ModifiedElfOutput/\"\n",
    "files = os.listdir(directory)\n",
    "first = True\n",
    "df = pd.DataFrame()\n",
    "with open('GeneratedMalware.csv', 'w', newline='') as csvfile:\n",
    "    writer = csv.writer(csvfile)\n",
    "    for file in files:\n",
    "        file_path = os.path.join(directory, file)\n",
    "        if os.path.isfile(file_path):\n",
    "            writer.writerow([file_path,'1'])\n"
   ]
  }
 ],
 "metadata": {
  "kernelspec": {
   "display_name": "Python 3 (ipykernel)",
   "language": "python",
   "name": "python3"
  },
  "language_info": {
   "codemirror_mode": {
    "name": "ipython",
    "version": 3
   },
   "file_extension": ".py",
   "mimetype": "text/x-python",
   "name": "python",
   "nbconvert_exporter": "python",
   "pygments_lexer": "ipython3",
   "version": "3.10.6"
  }
 },
 "nbformat": 4,
 "nbformat_minor": 5
}
